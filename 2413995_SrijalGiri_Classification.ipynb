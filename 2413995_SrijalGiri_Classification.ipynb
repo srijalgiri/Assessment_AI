{
  "nbformat": 4,
  "nbformat_minor": 0,
  "metadata": {
    "colab": {
      "provenance": [],
      "mount_file_id": "1bxYNIG-KkvYAk2U0VcFsWy9fKcT1B5qH",
      "authorship_tag": "ABX9TyNgRBjK9FOHUHba+KEhyilg",
      "include_colab_link": true
    },
    "kernelspec": {
      "name": "python3",
      "display_name": "Python 3"
    },
    "language_info": {
      "name": "python"
    }
  },
  "cells": [
    {
      "cell_type": "markdown",
      "metadata": {
        "id": "view-in-github",
        "colab_type": "text"
      },
      "source": [
        "<a href=\"https://colab.research.google.com/github/srijalgiri/Assessment_AI/blob/main/2413995_SrijalGiri_Classification.ipynb\" target=\"_parent\"><img src=\"https://colab.research.google.com/assets/colab-badge.svg\" alt=\"Open In Colab\"/></a>"
      ]
    },
    {
      "cell_type": "code",
      "execution_count": null,
      "metadata": {
        "id": "F9U0-dqf_g4J"
      },
      "outputs": [],
      "source": [
        "import pandas as pd\n",
        "import numpy as np\n",
        "import matplotlib.pyplot as plt\n",
        "import seaborn as sns\n",
        "from sklearn.model_selection import train_test_split, cross_val_score, GridSearchCV\n",
        "from sklearn.linear_model import LogisticRegression\n",
        "from sklearn.ensemble import RandomForestClassifier\n",
        "from sklearn.metrics import classification_report, confusion_matrix\n",
        "from sklearn.feature_selection import RFE\n",
        "from sklearn.preprocessing import LabelEncoder, StandardScaler\n",
        "from sklearn.base import BaseEstimator, ClassifierMixin\n",
        "\n",
        "# Load the dataset\n",
        "df = pd.read_csv(\"/content/drive/MyDrive/2413995_SrijalGiri_Assessment/Obesity prediction.csv\")\n"
      ]
    },
    {
      "cell_type": "code",
      "source": [
        "import random\n",
        "df.loc[df.sample(frac=0.05).index, random.choice(df.columns)] = np.nan\n",
        "df = pd.concat([df, df.sample(frac=0.1)], ignore_index=True)\n",
        "df.loc[df['Gender'] == 'Male', 'Gender'] = random.choice(['male', 'MALE', 'M'])"
      ],
      "metadata": {
        "id": "6FUHkSefCCcC"
      },
      "execution_count": null,
      "outputs": []
    },
    {
      "cell_type": "code",
      "source": [
        "duplicate_rows = df[df.duplicated()]\n",
        "print(\"Number of duplicate rows:\", duplicate_rows.shape[0])\n",
        "print(duplicate_rows)"
      ],
      "metadata": {
        "colab": {
          "base_uri": "https://localhost:8080/"
        },
        "id": "oz404ER-CCZq",
        "outputId": "4711eefb-dc2e-44bd-8cc0-b0d13e9c9d2b"
      },
      "execution_count": null,
      "outputs": [
        {
          "output_type": "stream",
          "name": "stdout",
          "text": [
            "Number of duplicate rows: 233\n",
            "      Gender        Age    Height      Weight family_history FAVC      FCVC  \\\n",
            "98    Female  21.000000  1.520000   42.000000             no   no  3.000000   \n",
            "106   Female  25.000000  1.570000   55.000000             no  yes  2.000000   \n",
            "174     MALE  21.000000  1.620000   70.000000             no  yes  2.000000   \n",
            "179     MALE  21.000000  1.620000   70.000000             no  yes  2.000000   \n",
            "184     MALE  21.000000  1.620000   70.000000             no  yes  2.000000   \n",
            "...      ...        ...       ...         ...            ...  ...       ...   \n",
            "2317  Female  29.320380  1.642506   69.906708            yes  yes  2.366949   \n",
            "2318  Female  22.980221  1.724983  132.940660            yes  yes  3.000000   \n",
            "2319    MALE  17.570089  1.700000   83.199034            yes   no  2.097373   \n",
            "2320    MALE  22.000000  1.750000   70.000000             no   no  2.000000   \n",
            "2321    MALE  22.814657  1.716289   75.688433            yes  yes  2.000000   \n",
            "\n",
            "           NCP        CAEC SMOKE      CH2O SCC       FAF       TUE       CALC  \\\n",
            "98    1.000000  Frequently    no  1.000000  no  0.000000  0.000000  Sometimes   \n",
            "106   1.000000   Sometimes    no  2.000000  no  2.000000  0.000000  Sometimes   \n",
            "174   1.000000          no    no  3.000000  no  1.000000  0.000000  Sometimes   \n",
            "179   1.000000          no    no  3.000000  no  1.000000  0.000000  Sometimes   \n",
            "184   1.000000          no    no  3.000000  no  1.000000  0.000000  Sometimes   \n",
            "...        ...         ...   ...       ...  ..       ...       ...        ...   \n",
            "2317  3.000000   Sometimes    no  1.926577  no  1.581242  0.000000  Sometimes   \n",
            "2318  3.000000   Sometimes    no  2.085553  no  1.271651  0.587932  Sometimes   \n",
            "2319  2.547086   Sometimes    no  1.538626  no  1.000000  0.761898         no   \n",
            "2320  3.000000   Sometimes    no  3.000000  no  1.000000  1.000000         no   \n",
            "2321  3.000000   Sometimes    no  2.000000  no  0.092344  1.466496  Sometimes   \n",
            "\n",
            "                     MTRANS              Obesity  \n",
            "98    Public_Transportation  Insufficient_Weight  \n",
            "106   Public_Transportation        Normal_Weight  \n",
            "174   Public_Transportation   Overweight_Level_I  \n",
            "179   Public_Transportation   Overweight_Level_I  \n",
            "184   Public_Transportation   Overweight_Level_I  \n",
            "...                     ...                  ...  \n",
            "2317             Automobile   Overweight_Level_I  \n",
            "2318  Public_Transportation     Obesity_Type_III  \n",
            "2319  Public_Transportation  Overweight_Level_II  \n",
            "2320  Public_Transportation        Normal_Weight  \n",
            "2321  Public_Transportation   Overweight_Level_I  \n",
            "\n",
            "[233 rows x 17 columns]\n"
          ]
        }
      ]
    },
    {
      "cell_type": "code",
      "source": [
        "df.isnull().sum()"
      ],
      "metadata": {
        "colab": {
          "base_uri": "https://localhost:8080/",
          "height": 617
        },
        "id": "7pIPOzBzCCWa",
        "outputId": "26a028dc-2b24-4df2-b5f6-a5f9d087a8f3"
      },
      "execution_count": null,
      "outputs": [
        {
          "output_type": "execute_result",
          "data": {
            "text/plain": [
              "Gender              0\n",
              "Age                 0\n",
              "Height              0\n",
              "Weight              0\n",
              "family_history      0\n",
              "FAVC                0\n",
              "FCVC                0\n",
              "NCP                 0\n",
              "CAEC                0\n",
              "SMOKE               0\n",
              "CH2O                0\n",
              "SCC               119\n",
              "FAF                 0\n",
              "TUE                 0\n",
              "CALC                0\n",
              "MTRANS              0\n",
              "Obesity             0\n",
              "dtype: int64"
            ],
            "text/html": [
              "<div>\n",
              "<style scoped>\n",
              "    .dataframe tbody tr th:only-of-type {\n",
              "        vertical-align: middle;\n",
              "    }\n",
              "\n",
              "    .dataframe tbody tr th {\n",
              "        vertical-align: top;\n",
              "    }\n",
              "\n",
              "    .dataframe thead th {\n",
              "        text-align: right;\n",
              "    }\n",
              "</style>\n",
              "<table border=\"1\" class=\"dataframe\">\n",
              "  <thead>\n",
              "    <tr style=\"text-align: right;\">\n",
              "      <th></th>\n",
              "      <th>0</th>\n",
              "    </tr>\n",
              "  </thead>\n",
              "  <tbody>\n",
              "    <tr>\n",
              "      <th>Gender</th>\n",
              "      <td>0</td>\n",
              "    </tr>\n",
              "    <tr>\n",
              "      <th>Age</th>\n",
              "      <td>0</td>\n",
              "    </tr>\n",
              "    <tr>\n",
              "      <th>Height</th>\n",
              "      <td>0</td>\n",
              "    </tr>\n",
              "    <tr>\n",
              "      <th>Weight</th>\n",
              "      <td>0</td>\n",
              "    </tr>\n",
              "    <tr>\n",
              "      <th>family_history</th>\n",
              "      <td>0</td>\n",
              "    </tr>\n",
              "    <tr>\n",
              "      <th>FAVC</th>\n",
              "      <td>0</td>\n",
              "    </tr>\n",
              "    <tr>\n",
              "      <th>FCVC</th>\n",
              "      <td>0</td>\n",
              "    </tr>\n",
              "    <tr>\n",
              "      <th>NCP</th>\n",
              "      <td>0</td>\n",
              "    </tr>\n",
              "    <tr>\n",
              "      <th>CAEC</th>\n",
              "      <td>0</td>\n",
              "    </tr>\n",
              "    <tr>\n",
              "      <th>SMOKE</th>\n",
              "      <td>0</td>\n",
              "    </tr>\n",
              "    <tr>\n",
              "      <th>CH2O</th>\n",
              "      <td>0</td>\n",
              "    </tr>\n",
              "    <tr>\n",
              "      <th>SCC</th>\n",
              "      <td>119</td>\n",
              "    </tr>\n",
              "    <tr>\n",
              "      <th>FAF</th>\n",
              "      <td>0</td>\n",
              "    </tr>\n",
              "    <tr>\n",
              "      <th>TUE</th>\n",
              "      <td>0</td>\n",
              "    </tr>\n",
              "    <tr>\n",
              "      <th>CALC</th>\n",
              "      <td>0</td>\n",
              "    </tr>\n",
              "    <tr>\n",
              "      <th>MTRANS</th>\n",
              "      <td>0</td>\n",
              "    </tr>\n",
              "    <tr>\n",
              "      <th>Obesity</th>\n",
              "      <td>0</td>\n",
              "    </tr>\n",
              "  </tbody>\n",
              "</table>\n",
              "</div><br><label><b>dtype:</b> int64</label>"
            ]
          },
          "metadata": {},
          "execution_count": 62
        }
      ]
    },
    {
      "cell_type": "code",
      "source": [
        "# Data Cleaning\n",
        "df.fillna(df.median(numeric_only=True), inplace=True)\n",
        "df.fillna(df.mode().iloc[0], inplace=True)\n",
        "df.drop_duplicates(inplace=True)\n",
        "df['Gender'] = df['Gender'].str.lower().map({'male': 'Male', 'female': 'Female'})\n"
      ],
      "metadata": {
        "id": "S2NkqyiiCCTc"
      },
      "execution_count": null,
      "outputs": []
    },
    {
      "cell_type": "code",
      "source": [
        "df.isnull().sum()"
      ],
      "metadata": {
        "colab": {
          "base_uri": "https://localhost:8080/",
          "height": 617
        },
        "id": "mAlHGJZ2DC87",
        "outputId": "ba9c50ef-63c8-4f1b-8b97-2dd46f3c9a44"
      },
      "execution_count": null,
      "outputs": [
        {
          "output_type": "execute_result",
          "data": {
            "text/plain": [
              "Gender            0\n",
              "Age               0\n",
              "Height            0\n",
              "Weight            0\n",
              "family_history    0\n",
              "FAVC              0\n",
              "FCVC              0\n",
              "NCP               0\n",
              "CAEC              0\n",
              "SMOKE             0\n",
              "CH2O              0\n",
              "SCC               0\n",
              "FAF               0\n",
              "TUE               0\n",
              "CALC              0\n",
              "MTRANS            0\n",
              "Obesity           0\n",
              "dtype: int64"
            ],
            "text/html": [
              "<div>\n",
              "<style scoped>\n",
              "    .dataframe tbody tr th:only-of-type {\n",
              "        vertical-align: middle;\n",
              "    }\n",
              "\n",
              "    .dataframe tbody tr th {\n",
              "        vertical-align: top;\n",
              "    }\n",
              "\n",
              "    .dataframe thead th {\n",
              "        text-align: right;\n",
              "    }\n",
              "</style>\n",
              "<table border=\"1\" class=\"dataframe\">\n",
              "  <thead>\n",
              "    <tr style=\"text-align: right;\">\n",
              "      <th></th>\n",
              "      <th>0</th>\n",
              "    </tr>\n",
              "  </thead>\n",
              "  <tbody>\n",
              "    <tr>\n",
              "      <th>Gender</th>\n",
              "      <td>0</td>\n",
              "    </tr>\n",
              "    <tr>\n",
              "      <th>Age</th>\n",
              "      <td>0</td>\n",
              "    </tr>\n",
              "    <tr>\n",
              "      <th>Height</th>\n",
              "      <td>0</td>\n",
              "    </tr>\n",
              "    <tr>\n",
              "      <th>Weight</th>\n",
              "      <td>0</td>\n",
              "    </tr>\n",
              "    <tr>\n",
              "      <th>family_history</th>\n",
              "      <td>0</td>\n",
              "    </tr>\n",
              "    <tr>\n",
              "      <th>FAVC</th>\n",
              "      <td>0</td>\n",
              "    </tr>\n",
              "    <tr>\n",
              "      <th>FCVC</th>\n",
              "      <td>0</td>\n",
              "    </tr>\n",
              "    <tr>\n",
              "      <th>NCP</th>\n",
              "      <td>0</td>\n",
              "    </tr>\n",
              "    <tr>\n",
              "      <th>CAEC</th>\n",
              "      <td>0</td>\n",
              "    </tr>\n",
              "    <tr>\n",
              "      <th>SMOKE</th>\n",
              "      <td>0</td>\n",
              "    </tr>\n",
              "    <tr>\n",
              "      <th>CH2O</th>\n",
              "      <td>0</td>\n",
              "    </tr>\n",
              "    <tr>\n",
              "      <th>SCC</th>\n",
              "      <td>0</td>\n",
              "    </tr>\n",
              "    <tr>\n",
              "      <th>FAF</th>\n",
              "      <td>0</td>\n",
              "    </tr>\n",
              "    <tr>\n",
              "      <th>TUE</th>\n",
              "      <td>0</td>\n",
              "    </tr>\n",
              "    <tr>\n",
              "      <th>CALC</th>\n",
              "      <td>0</td>\n",
              "    </tr>\n",
              "    <tr>\n",
              "      <th>MTRANS</th>\n",
              "      <td>0</td>\n",
              "    </tr>\n",
              "    <tr>\n",
              "      <th>Obesity</th>\n",
              "      <td>0</td>\n",
              "    </tr>\n",
              "  </tbody>\n",
              "</table>\n",
              "</div><br><label><b>dtype:</b> int64</label>"
            ]
          },
          "metadata": {},
          "execution_count": 64
        }
      ]
    },
    {
      "cell_type": "code",
      "source": [
        "# Check class distribution for FAVC\n",
        "favc_distribution = df[\"FAVC\"].value_counts()\n",
        "print(\"FAVC Class Distribution:\\n\", favc_distribution)"
      ],
      "metadata": {
        "colab": {
          "base_uri": "https://localhost:8080/"
        },
        "id": "IM31V2oRCCQq",
        "outputId": "e73917bd-03bb-4573-8195-cdafecd4d143"
      },
      "execution_count": null,
      "outputs": [
        {
          "output_type": "stream",
          "name": "stdout",
          "text": [
            "FAVC Class Distribution:\n",
            " FAVC\n",
            "yes    1844\n",
            "no      243\n",
            "Name: count, dtype: int64\n"
          ]
        }
      ]
    },
    {
      "cell_type": "code",
      "source": [
        "# Encode target variable\n",
        "df[\"FAVC\"] = df[\"FAVC\"].map({\"yes\": 1, \"no\": 0})\n"
      ],
      "metadata": {
        "id": "vBDm2in3CCN8"
      },
      "execution_count": null,
      "outputs": []
    },
    {
      "cell_type": "code",
      "source": [
        "\n",
        "X = df.drop(columns=[\"FAVC\"])\n",
        "y = df[\"FAVC\"]\n",
        "X_train, X_test, y_train, y_test = train_test_split(X, y, test_size=0.2, random_state=42, stratify=y)\n",
        "\n",
        "# Encode categorical features only on training set and apply transformation to test set\n",
        "label_encoders = {}\n",
        "for col in X_train.select_dtypes(include=['object']).columns:\n",
        "    le = LabelEncoder()\n",
        "    X_train[col] = le.fit_transform(X_train[col])\n",
        "    X_test[col] = le.transform(X_test[col])  # Transform test set\n",
        "    label_encoders[col] = le\n",
        "\n",
        "scaler = StandardScaler()\n",
        "X_train[X_train.select_dtypes(include=[np.number]).columns] = scaler.fit_transform(X_train[X_train.select_dtypes(include=[np.number]).columns])\n",
        "X_test[X_test.select_dtypes(include=[np.number]).columns] = scaler.transform(X_test[X_test.select_dtypes(include=[np.number]).columns])\n"
      ],
      "metadata": {
        "id": "IzKtcMA3CCCq"
      },
      "execution_count": null,
      "outputs": []
    },
    {
      "cell_type": "code",
      "source": [
        "\n",
        "#Logistic Regression from Scratch\n",
        "class LogisticRegressionScratch(BaseEstimator, ClassifierMixin):\n",
        "    def __init__(self, learning_rate=0.01, num_iterations=1000):\n",
        "        self.learning_rate = learning_rate\n",
        "        self.num_iterations = num_iterations\n",
        "        self.weights = None\n",
        "        self.bias = None\n",
        "\n",
        "    def fit(self, X, y):\n",
        "        num_samples, num_features = X.shape\n",
        "        self.weights = np.zeros(num_features)\n",
        "        self.bias = 0\n",
        "\n",
        "        for _ in range(self.num_iterations):\n",
        "            linear_model = np.dot(X, self.weights) + self.bias\n",
        "            y_predicted = 1 / (1 + np.exp(-linear_model))\n",
        "\n",
        "            # Gradient descent\n",
        "            dw = (1 / num_samples) * np.dot(X.T, (y_predicted - y))\n",
        "            db = (1 / num_samples) * np.sum(y_predicted - y)\n",
        "\n",
        "            self.weights -= self.learning_rate * dw\n",
        "            self.bias -= self.learning_rate * db\n",
        "\n",
        "        return self\n",
        "\n",
        "    def predict(self, X):\n",
        "        linear_model = np.dot(X, self.weights) + self.bias\n",
        "        y_predicted = 1 / (1 + np.exp(-linear_model))\n",
        "        return (y_predicted > 0.5).astype(int)\n"
      ],
      "metadata": {
        "id": "E8ywxNgPCB_7"
      },
      "execution_count": null,
      "outputs": []
    },
    {
      "cell_type": "code",
      "source": [
        "\n",
        "# Train Model 1\n",
        "logistic_model = LogisticRegressionScratch()\n",
        "logistic_model.fit(X_train, y_train)\n",
        "y_pred_logistic = logistic_model.predict(X_test)\n",
        "\n",
        "# Build Model 2: Random Forest\n",
        "rf_model = RandomForestClassifier(random_state=42)\n",
        "rf_model.fit(X_train, y_train)\n",
        "y_pred_rf = rf_model.predict(X_test)\n",
        "\n",
        "print(\"Logistic Regression Results:\\n\", classification_report(y_test, y_pred_logistic))\n",
        "print(\"Confusion Matrix for Logistic Regression:\\n\", confusion_matrix(y_test, y_pred_logistic))\n",
        "\n",
        "print(\"Random Forest Results:\\n\", classification_report(y_test, y_pred_rf))\n",
        "print(\"Confusion Matrix for Random Forest:\\n\", confusion_matrix(y_test, y_pred_rf))\n"
      ],
      "metadata": {
        "colab": {
          "base_uri": "https://localhost:8080/"
        },
        "id": "MlgYcFhACB46",
        "outputId": "40e8cd30-3080-44de-a6da-c68aefa096e9"
      },
      "execution_count": null,
      "outputs": [
        {
          "output_type": "stream",
          "name": "stdout",
          "text": [
            "Logistic Regression Results:\n",
            "               precision    recall  f1-score   support\n",
            "\n",
            "           0       0.50      0.08      0.14        49\n",
            "           1       0.89      0.99      0.94       369\n",
            "\n",
            "    accuracy                           0.88       418\n",
            "   macro avg       0.70      0.54      0.54       418\n",
            "weighted avg       0.84      0.88      0.84       418\n",
            "\n",
            "Confusion Matrix for Logistic Regression:\n",
            " [[  4  45]\n",
            " [  4 365]]\n",
            "Random Forest Results:\n",
            "               precision    recall  f1-score   support\n",
            "\n",
            "           0       0.85      0.47      0.61        49\n",
            "           1       0.93      0.99      0.96       369\n",
            "\n",
            "    accuracy                           0.93       418\n",
            "   macro avg       0.89      0.73      0.78       418\n",
            "weighted avg       0.92      0.93      0.92       418\n",
            "\n",
            "Confusion Matrix for Random Forest:\n",
            " [[ 23  26]\n",
            " [  4 365]]\n"
          ]
        }
      ]
    },
    {
      "cell_type": "code",
      "source": [
        "\n",
        "# Hyper-parameter Optimization with Cross-Validation\n",
        "# Cross-validation for Logistic Regression\n",
        "logistic_cv_scores = cross_val_score(logistic_model, X_train, y_train, cv=5)\n",
        "print(\"Logistic Regression CV Scores:\", logistic_cv_scores)\n",
        "\n",
        "# Hyper-parameter tuning for Random Forest\n",
        "param_grid = {\n",
        "    'n_estimators': [50, 100],\n",
        "    'max_depth': [None, 10, 20]\n",
        "}\n",
        "grid_search = GridSearchCV(estimator=rf_model, param_grid=param_grid, cv=5)\n",
        "grid_search.fit(X_train, y_train)\n",
        "print(\"Best Hyperparameters for Random Forest:\", grid_search.best_params_)\n"
      ],
      "metadata": {
        "colab": {
          "base_uri": "https://localhost:8080/"
        },
        "id": "gKQyWMcwCBts",
        "outputId": "a54d862c-5dbc-46b8-8825-4189799f891e"
      },
      "execution_count": null,
      "outputs": [
        {
          "output_type": "stream",
          "name": "stdout",
          "text": [
            "Logistic Regression CV Scores: [0.86526946 0.86526946 0.89520958 0.88922156 0.8978979 ]\n",
            "Best Hyperparameters for Random Forest: {'max_depth': 10, 'n_estimators': 50}\n"
          ]
        }
      ]
    },
    {
      "cell_type": "code",
      "source": [
        "# Feature Selection for Logistic Regression\n",
        "selector = RFE(estimator=LogisticRegression(), n_features_to_select=5)\n",
        "selector.fit(X_train, y_train)\n",
        "selected_features_logistic = X_train.columns[selector.support_]\n",
        "print(\"Selected Features for Logistic Regression:\", selected_features_logistic)\n",
        "\n",
        "# Feature Importance for Random Forest\n",
        "importances = rf_model.feature_importances_\n",
        "feature_importance_df = pd.DataFrame({'Feature': X_train.columns, 'Importance': importances})\n",
        "selected_features_rf = feature_importance_df.sort_values(by=\"Importance\", ascending=False).head(5)[\"Feature\"].tolist()\n",
        "print(\"Selected Features for Random Forest:\", selected_features_rf)\n"
      ],
      "metadata": {
        "colab": {
          "base_uri": "https://localhost:8080/"
        },
        "id": "sovkiKUPC1B7",
        "outputId": "27df6844-96a1-4f03-8e96-0d5fd1d965ca"
      },
      "execution_count": null,
      "outputs": [
        {
          "output_type": "stream",
          "name": "stdout",
          "text": [
            "Selected Features for Logistic Regression: Index(['Weight', 'FAF', 'TUE', 'MTRANS', 'Obesity'], dtype='object')\n",
            "Selected Features for Random Forest: ['Weight', 'Age', 'Height', 'Obesity', 'FAF']\n"
          ]
        }
      ]
    },
    {
      "cell_type": "code",
      "source": [
        "\n",
        "# Build the Final Model\n",
        "best_rf_model = RandomForestClassifier(n_estimators=grid_search.best_params_['n_estimators'],\n",
        "                                        max_depth=grid_search.best_params_['max_depth'],\n",
        "                                        random_state=42)\n",
        "best_rf_model.fit(X_train[selected_features_rf], y_train)\n",
        "\n",
        "final_predictions = best_rf_model.predict(X_test[selected_features_rf])\n",
        "print(\"Final Model Results:\\n\", classification_report(y_test, final_predictions))\n"
      ],
      "metadata": {
        "colab": {
          "base_uri": "https://localhost:8080/"
        },
        "id": "N396wbGcC8JL",
        "outputId": "d533a9da-350b-444a-df69-1c054395ba5e"
      },
      "execution_count": null,
      "outputs": [
        {
          "output_type": "stream",
          "name": "stdout",
          "text": [
            "Final Model Results:\n",
            "               precision    recall  f1-score   support\n",
            "\n",
            "           0       0.85      0.45      0.59        49\n",
            "           1       0.93      0.99      0.96       369\n",
            "\n",
            "    accuracy                           0.93       418\n",
            "   macro avg       0.89      0.72      0.77       418\n",
            "weighted avg       0.92      0.93      0.92       418\n",
            "\n"
          ]
        }
      ]
    }
  ]
}